{
  "cells": [
    {
      "cell_type": "markdown",
      "source": [
        "# Ejercicio 1: Transformar cadenas\n",
        "Hay varias operaciones que puedes realizar en las cadenas cuando las manipulamos. En este ejercicio, usarás métodos de cadena para modificar el texto con hechos sobre la Luna y luego extraerás información para crear un breve resumen.\n",
        "\n",
        "> **Nota**\n",
        "> Dedica unos minutos a tratar de encontrar una solución. Luego desplázate hacia abajo hasta la parte inferior para ver si has logrado compilar el programa de acuerdo con las especificaciones."
      ],
      "metadata": {}
    },
    {
      "cell_type": "markdown",
      "source": [
        "El texto con el que trabajarás es el siguiente: "
      ],
      "metadata": {}
    },
    {
      "cell_type": "code",
      "execution_count": 3,
      "source": [
        "text = \"\"\"Interesting facts about the Moon. The Moon is Earth's only satellite. There are several interesting facts about the Moon and how it affects life here on Earth. \r\n",
        "On average, the Moon moves 4cm away from the Earth every year. This yearly drift is not significant enough to cause immediate effects on Earth. The highest daylight temperature of the Moon is 127 C.\"\"\""
      ],
      "outputs": [],
      "metadata": {}
    },
    {
      "cell_type": "markdown",
      "source": [
        "Primero, divide el texto en cada oración para trabajar con su contenido:"
      ],
      "metadata": {}
    },
    {
      "cell_type": "code",
      "execution_count": 4,
      "source": [
        "oraciones = text.split(\".\")"
      ],
      "outputs": [],
      "metadata": {}
    },
    {
      "cell_type": "markdown",
      "source": [
        "Ahora, define algunas palabras clave para búsqueda que te ayudarán a determinar si una oración contiene un hecho."
      ],
      "metadata": {}
    },
    {
      "cell_type": "code",
      "execution_count": 5,
      "source": [
        "claves = [\"average\", \"temperature\", \"distance\"]"
      ],
      "outputs": [],
      "metadata": {}
    },
    {
      "cell_type": "markdown",
      "source": [
        "Cre un bucle para imprimir solo datos sobre la Luna que estén relacionados con las palabras clave definidas anteriormente:"
      ],
      "metadata": {}
    },
    {
      "cell_type": "code",
      "execution_count": 7,
      "source": [
        "for oracion in oraciones:\r\n",
        "    for clave in claves:\r\n",
        "        if clave in oracion:\r\n",
        "            print(oracion)\r\n",
        "            break"
      ],
      "outputs": [
        {
          "output_type": "stream",
          "name": "stdout",
          "text": [
            " \n",
            "On average, the Moon moves 4cm away from the Earth every year\n",
            " The highest daylight temperature of the Moon is 127 C\n"
          ]
        }
      ],
      "metadata": {}
    },
    {
      "cell_type": "markdown",
      "source": [
        "Finalmente, actualiza el bucle(ciclo) para cambiar _C_ a _Celsius_:"
      ],
      "metadata": {}
    },
    {
      "cell_type": "code",
      "execution_count": 8,
      "source": [
        "for oracion in oraciones:\r\n",
        "    for clave in claves:\r\n",
        "        if clave in oracion:\r\n",
        "            print(oracion.replace(\"C\", \"Celsius\"))\r\n",
        "            break"
      ],
      "outputs": [
        {
          "output_type": "stream",
          "name": "stdout",
          "text": [
            " \n",
            "On average, the Moon moves 4cm away from the Earth every year\n",
            " The highest daylight temperature of the Moon is 127 Celsius\n"
          ]
        }
      ],
      "metadata": {}
    },
    {
      "cell_type": "markdown",
      "source": [
        "> Recuerda: Lo importante es intentarlo, puedes auxiliarte de internet, libros, etc. El objetivo de una kata es la comprobación de la comprensión de la lección y su aplicación inmediata a la resolución de problemas. Go for it!"
      ],
      "metadata": {}
    },
    {
      "cell_type": "markdown",
      "source": [
        "# Ejercicio 2: Formateando Cadenas\r\n",
        "\r\n",
        "Saber cómo dar formato a las cadenas es esencial cuando se presenta información de un programa. Hay algunas maneras diferentes de lograr esto en Python. En este ejercicio, se utilizan variables que contienen datos clave sobre la gravedad en varias lunas y luego se utilizan para dar formato e imprimir la información.\r\n",
        "\r\n",
        "El formato tiene que acomodar información sobre otras lunas, por lo que debe ser genérico.\r\n",
        "\r\n",
        "En lugar de reemplazar las variables en una cadena larga como parte de un párrafo, utiliza la información para presentarla en un formato tabular. El resultado debería verse así:\r\n",
        "\r\n",
        "```\r\n",
        "Gravity Facts about Ganymede\r\n",
        "-------------------------------------------------------------------------------\r\n",
        "Planet Name: Mars\r\n",
        "Gravity on Ganymede: 1.4300000000000002 m/s2\r\n",
        "```"
      ],
      "metadata": {}
    },
    {
      "cell_type": "code",
      "execution_count": 9,
      "source": [
        "# Datos con los que vas a trabajar\r\n",
        "name = \"Moon\"\r\n",
        "gravity = 0.00162 # in kms\r\n",
        "planet = \"Earth\""
      ],
      "outputs": [],
      "metadata": {}
    },
    {
      "cell_type": "markdown",
      "source": [
        "Primero, crea un título para el texto. Debido a que este texto trata sobre la gravedad en la Tierra y la Luna, úsalo para crear un título significativo. Utiliza las variables en lugar de escribir."
      ],
      "metadata": {}
    },
    {
      "cell_type": "code",
      "execution_count": 18,
      "source": [
        "titulo = f\"Gravity Facts about {name}\""
      ],
      "outputs": [],
      "metadata": {}
    },
    {
      "cell_type": "markdown",
      "source": [
        "Ahora crea una plantilla de cadena multilínea para contener el resto de la información. En lugar de usar kilómetros, debes convertir la distancia a metros multiplicando por 1,000."
      ],
      "metadata": {}
    },
    {
      "cell_type": "code",
      "execution_count": 20,
      "source": [
        "informacion = f\"\"\"\r\n",
        "Planet Name: {planet}\r\n",
        "Gravity on {name}: {gravity * 1000} m/s2\r\n",
        "\"\"\""
      ],
      "outputs": [],
      "metadata": {}
    },
    {
      "cell_type": "markdown",
      "source": [
        "Finalmente, usa ambas variables para unir el título y los hechos."
      ],
      "metadata": {}
    },
    {
      "cell_type": "code",
      "execution_count": 21,
      "source": [
        "datos = f\"\"\"{titulo}\r\n",
        "----------------------------------\r\n",
        "{informacion}\r\n",
        "\"\"\"\r\n",
        "print(datos)"
      ],
      "outputs": [
        {
          "output_type": "stream",
          "name": "stdout",
          "text": [
            "Gravity Facts about Moon\n",
            "----------------------------------\n",
            "\n",
            "Planet Name: Earth\n",
            "Gravity on Moon: 1.6199999999999999 m/s2\n",
            "\n",
            "\n"
          ]
        }
      ],
      "metadata": {}
    },
    {
      "cell_type": "markdown",
      "source": [
        "Ahora usa información de una luna diferente para ver si la plantilla todavía funciona.\r\n",
        "\r\n",
        "Datos muestra: \r\n",
        "```\r\n",
        "planeta = 'Marte '\r\n",
        "gravedad  = 0.00143\r\n",
        "nombre = 'Ganímedes'\r\n",
        "```"
      ],
      "metadata": {}
    },
    {
      "cell_type": "code",
      "execution_count": 30,
      "source": [
        "planet = 'Marte '\r\n",
        "gravity  = 0.00143\r\n",
        "name = 'Ganímedes'\r\n",
        "\r\n",
        "print(datos)"
      ],
      "outputs": [
        {
          "output_type": "stream",
          "name": "stdout",
          "text": [
            "Gravity Facts about Moon\n",
            "----------------------------------\n",
            "\n",
            "Planet Name: Earth\n",
            "Gravity on Moon: 1.6199999999999999 m/s2\n",
            "\n",
            "\n"
          ]
        }
      ],
      "metadata": {}
    },
    {
      "cell_type": "markdown",
      "source": [
        "La salida no muestra información sobre Marte. Todavía muestra información sobre la Luna. Esto sucede porque las cadenas f están ansiosas en su evaluación, por lo que las variables una vez asignadas no se pueden reasignar. Para evitar este problema, vuelva a hacer la plantilla para utilizar .format():"
      ],
      "metadata": {}
    },
    {
      "cell_type": "code",
      "execution_count": 31,
      "source": [
        "plantilla = \"\"\"\r\n",
        "Gravity Facts about {name}\r\n",
        "-------------------------------------------------------------------------------\r\n",
        "Planet Name: {planet}\r\n",
        "Gravity on {name}: {gravity} m/s2\r\n",
        "\"\"\""
      ],
      "outputs": [],
      "metadata": {}
    },
    {
      "cell_type": "markdown",
      "source": [
        "Debido a que .format() no permite expresiones, la gravedad en Ganímedes es incorrecta. Asegúrese de que la operación se realiza fuera de la plantilla de formato e imprima de nuevo para ver el resultado de trabajo."
      ],
      "metadata": {}
    },
    {
      "cell_type": "code",
      "execution_count": 32,
      "source": [
        "print(plantilla.format(name = name, planet = planet, gravity = gravity *1000))"
      ],
      "outputs": [
        {
          "output_type": "stream",
          "name": "stdout",
          "text": [
            "\n",
            "Gravity Facts about Ganímedes\n",
            "-------------------------------------------------------------------------------\n",
            "Planet Name: Marte \n",
            "Gravity on Ganímedes: 1.4300000000000002 m/s2\n",
            "\n"
          ]
        }
      ],
      "metadata": {}
    },
    {
      "cell_type": "markdown",
      "source": [
        "## Soluciones"
      ],
      "metadata": {}
    },
    {
      "cell_type": "markdown",
      "source": [
        "## Ejercicio 1"
      ],
      "metadata": {}
    },
    {
      "cell_type": "code",
      "execution_count": null,
      "source": [
        "# Divide el texto\r\n",
        "text_parts = text.split('. ')\r\n",
        "text_parts"
      ],
      "outputs": [],
      "metadata": {}
    },
    {
      "cell_type": "code",
      "execution_count": null,
      "source": [
        "# Palabras clave\r\n",
        "key_words = [\"average\", \"temperature\", \"distance\"]"
      ],
      "outputs": [],
      "metadata": {}
    },
    {
      "cell_type": "code",
      "execution_count": null,
      "source": [
        "# Ciclo for para recorrer la cadena\r\n",
        "for sentence in text_parts:\r\n",
        "    for key_word in key_words:\r\n",
        "        if key_word in sentence:\r\n",
        "            print(sentence)\r\n",
        "            break"
      ],
      "outputs": [],
      "metadata": {}
    },
    {
      "cell_type": "code",
      "execution_count": null,
      "source": [
        "# Ciclo para cambiar C a Celsius\r\n",
        "for sentence in text_parts:\r\n",
        "    for key_word in key_words:\r\n",
        "        if key_word in sentence:\r\n",
        "            print(sentence.replace(' C', ' Celsius'))\r\n",
        "            break"
      ],
      "outputs": [],
      "metadata": {}
    },
    {
      "cell_type": "markdown",
      "source": [
        "## Ejercicio 2"
      ],
      "metadata": {}
    },
    {
      "cell_type": "code",
      "execution_count": 11,
      "source": [
        "# Datos con los que vamos a trabajar\r\n",
        "\r\n",
        "planeta = 'Marte '\r\n",
        "gravedad  = 0.00143\r\n",
        "nombre = 'Ganímedes'"
      ],
      "outputs": [],
      "metadata": {}
    },
    {
      "cell_type": "code",
      "execution_count": 12,
      "source": [
        "# Creamos el título\r\n",
        "title = f'datos de gravedad sobre {nombre}'"
      ],
      "outputs": [],
      "metadata": {}
    },
    {
      "cell_type": "code",
      "execution_count": 13,
      "source": [
        "# Creamos la plantilla\r\n",
        "hechos = f\"\"\"{'-'*80} \r\n",
        "Nombre del planeta: {planeta} \r\n",
        "Gravedad en {nombre}: {gravedad * 1000} m/s2 \r\n",
        "\"\"\""
      ],
      "outputs": [],
      "metadata": {}
    },
    {
      "cell_type": "code",
      "execution_count": 14,
      "source": [
        "# Unión de ambas cadenas\r\n",
        "template = f\"\"\"{title.title()} \r\n",
        "{hechos} \r\n",
        "\"\"\" \r\n",
        "print(hechos)"
      ],
      "outputs": [
        {
          "output_type": "stream",
          "name": "stdout",
          "text": [
            "-------------------------------------------------------------------------------- \n",
            "Nombre del planeta: Marte  \n",
            "Gravedad en Ganímedes: 1.4300000000000002 m/s2 \n",
            "\n"
          ]
        }
      ],
      "metadata": {}
    },
    {
      "cell_type": "code",
      "execution_count": 15,
      "source": [
        "# Nuevos datos muestra\r\n",
        "planeta = 'Marte '\r\n",
        "gravedad  = 0.00143\r\n",
        "nombre = 'Ganímedes'"
      ],
      "outputs": [],
      "metadata": {}
    },
    {
      "cell_type": "code",
      "execution_count": 16,
      "source": [
        "# Comprobamos la plantilla\r\n",
        "print(hechos)"
      ],
      "outputs": [
        {
          "output_type": "stream",
          "name": "stdout",
          "text": [
            "-------------------------------------------------------------------------------- \n",
            "Nombre del planeta: Marte  \n",
            "Gravedad en Ganímedes: 1.4300000000000002 m/s2 \n",
            "\n"
          ]
        }
      ],
      "metadata": {}
    },
    {
      "cell_type": "code",
      "execution_count": 17,
      "source": [
        "new_template = \"\"\"\r\n",
        "Datos de Gravedad sobre: {nombre}\r\n",
        "-------------------------------------------------------------------------------\r\n",
        "Nombre del planeta: {planeta}\r\n",
        "Gravedad en {nombre}: {gravedad} m/s2\r\n",
        "\"\"\"\r\n",
        "print(new_template.format(nombre=nombre, planeta=planeta, gravedad=gravedad))"
      ],
      "outputs": [
        {
          "output_type": "stream",
          "name": "stdout",
          "text": [
            "\n",
            "Datos de Gravedad sobre: Ganímedes\n",
            "-------------------------------------------------------------------------------\n",
            "Nombre del planeta: Marte \n",
            "Gravedad en Ganímedes: 0.00143 m/s2\n",
            "\n"
          ]
        }
      ],
      "metadata": {}
    },
    {
      "cell_type": "code",
      "execution_count": null,
      "source": [
        "# Pista: print(nueva_plantilla.format(variables))\r\n",
        "print(new_template.format(nombre=nombre, planeta=planeta, gravedad=gravedad*1000))"
      ],
      "outputs": [],
      "metadata": {}
    },
    {
      "cell_type": "markdown",
      "source": [
        "Curso Propedútico de Python para Launch X - Innovacción Virtual.\n",
        "\n",
        "Material desarrollado con base en los contenidos de MSLearn y la metáfora de LaunchX, traducción e implementación por: Fernanda Ochoa - Learning Producer de LaunchX.\n",
        "\n",
        "Redes:\n",
        "* GitHub: [FernandaOchoa](https://github.com/FernandaOchoa)\n",
        "* Twitter: [@imonsh](https://twitter.com/imonsh)\n",
        "* Instagram: [fherz8a](https://www.instagram.com/fherz8a/)"
      ],
      "metadata": {}
    }
  ],
  "metadata": {
    "interpreter": {
      "hash": "d62bf26cced73ea125945064761b766a12ba49f06257a4865f283bda77d40a78"
    },
    "kernel_info": {
      "name": "conda-env-py37_default-py"
    },
    "kernelspec": {
      "name": "python3",
      "display_name": "Python 3.9.10 64-bit (windows store)"
    },
    "language_info": {
      "codemirror_mode": {
        "name": "ipython",
        "version": 3
      },
      "file_extension": ".py",
      "mimetype": "text/x-python",
      "name": "python",
      "nbconvert_exporter": "python",
      "pygments_lexer": "ipython3",
      "version": "3.9.10"
    },
    "nteract": {
      "version": "nteract-front-end@1.0.0"
    },
    "orig_nbformat": 4
  },
  "nbformat": 4,
  "nbformat_minor": 2
}